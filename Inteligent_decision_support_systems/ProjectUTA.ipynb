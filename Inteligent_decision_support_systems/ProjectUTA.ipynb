{
  "cells": [
    {
      "cell_type": "markdown",
      "metadata": {
        "id": "U877GvodNQr4"
      },
      "source": [
        "# Introduction\n",
        "In this tutorial, we will learn how to use the PuLP library in Python to solve linear programming problems. Linear programming is a method to achieve the best outcome in a mathematical model whose requirements are represented by linear constraints."
      ]
    },
    {
      "cell_type": "code",
      "execution_count": 1,
      "metadata": {
        "id": "paVEe0Z9NQsB"
      },
      "outputs": [
        {
          "name": "stdout",
          "output_type": "stream",
          "text": [
            "Collecting pulp\n",
            "  Downloading pulp-3.1.1-py3-none-any.whl (16.4 MB)\n",
            "     ---------------------------------------- 0.0/16.4 MB ? eta -:--:--\n",
            "     ---------------------------------------- 0.0/16.4 MB ? eta -:--:--\n",
            "     --------------------------------------- 0.1/16.4 MB 907.3 kB/s eta 0:00:18\n",
            "     --------------------------------------- 0.1/16.4 MB 980.4 kB/s eta 0:00:17\n",
            "     ---------------------------------------- 0.2/16.4 MB 1.2 MB/s eta 0:00:14\n",
            "      -------------------------------------- 0.2/16.4 MB 981.9 kB/s eta 0:00:17\n",
            "      --------------------------------------- 0.4/16.4 MB 1.3 MB/s eta 0:00:12\n",
            "     - -------------------------------------- 0.5/16.4 MB 1.6 MB/s eta 0:00:10\n",
            "     - -------------------------------------- 0.6/16.4 MB 1.7 MB/s eta 0:00:10\n",
            "     - -------------------------------------- 0.7/16.4 MB 1.7 MB/s eta 0:00:10\n",
            "     - -------------------------------------- 0.7/16.4 MB 1.7 MB/s eta 0:00:10\n",
            "     -- ------------------------------------- 1.0/16.4 MB 1.9 MB/s eta 0:00:08\n",
            "     -- ------------------------------------- 1.1/16.4 MB 1.9 MB/s eta 0:00:09\n",
            "     -- ------------------------------------- 1.2/16.4 MB 1.9 MB/s eta 0:00:08\n",
            "     --- ------------------------------------ 1.3/16.4 MB 2.0 MB/s eta 0:00:08\n",
            "     --- ------------------------------------ 1.4/16.4 MB 2.1 MB/s eta 0:00:08\n",
            "     --- ------------------------------------ 1.5/16.4 MB 2.1 MB/s eta 0:00:07\n",
            "     ---- ----------------------------------- 1.7/16.4 MB 2.1 MB/s eta 0:00:07\n",
            "     ---- ----------------------------------- 1.7/16.4 MB 2.2 MB/s eta 0:00:07\n",
            "     ---- ----------------------------------- 1.8/16.4 MB 2.1 MB/s eta 0:00:07\n",
            "     ---- ----------------------------------- 1.9/16.4 MB 2.1 MB/s eta 0:00:07\n",
            "     ----- ---------------------------------- 2.1/16.4 MB 2.2 MB/s eta 0:00:07\n",
            "     ----- ---------------------------------- 2.2/16.4 MB 2.2 MB/s eta 0:00:07\n",
            "     ----- ---------------------------------- 2.3/16.4 MB 2.2 MB/s eta 0:00:07\n",
            "     ----- ---------------------------------- 2.4/16.4 MB 2.2 MB/s eta 0:00:07\n",
            "     ------ --------------------------------- 2.5/16.4 MB 2.2 MB/s eta 0:00:07\n",
            "     ------ --------------------------------- 2.6/16.4 MB 2.2 MB/s eta 0:00:07\n",
            "     ------ --------------------------------- 2.8/16.4 MB 2.2 MB/s eta 0:00:07\n",
            "     ------- -------------------------------- 2.9/16.4 MB 2.2 MB/s eta 0:00:07\n",
            "     ------- -------------------------------- 2.9/16.4 MB 2.2 MB/s eta 0:00:07\n",
            "     ------- -------------------------------- 3.0/16.4 MB 2.3 MB/s eta 0:00:06\n",
            "     ------- -------------------------------- 3.3/16.4 MB 2.3 MB/s eta 0:00:06\n",
            "     -------- ------------------------------- 3.4/16.4 MB 2.3 MB/s eta 0:00:06\n",
            "     -------- ------------------------------- 3.5/16.4 MB 2.3 MB/s eta 0:00:06\n",
            "     --------- ------------------------------ 3.7/16.4 MB 2.4 MB/s eta 0:00:06\n",
            "     --------- ------------------------------ 3.9/16.4 MB 2.4 MB/s eta 0:00:06\n",
            "     --------- ------------------------------ 3.9/16.4 MB 2.4 MB/s eta 0:00:06\n",
            "     --------- ------------------------------ 4.0/16.4 MB 2.3 MB/s eta 0:00:06\n",
            "     ---------- ----------------------------- 4.1/16.4 MB 2.4 MB/s eta 0:00:06\n",
            "     ---------- ----------------------------- 4.3/16.4 MB 2.4 MB/s eta 0:00:06\n",
            "     ---------- ----------------------------- 4.4/16.4 MB 2.4 MB/s eta 0:00:05\n",
            "     ----------- ---------------------------- 4.7/16.4 MB 2.4 MB/s eta 0:00:05\n",
            "     ----------- ---------------------------- 4.7/16.4 MB 2.4 MB/s eta 0:00:05\n",
            "     ----------- ---------------------------- 4.8/16.4 MB 2.4 MB/s eta 0:00:05\n",
            "     ----------- ---------------------------- 4.8/16.4 MB 2.4 MB/s eta 0:00:05\n",
            "     ------------ --------------------------- 4.9/16.4 MB 2.4 MB/s eta 0:00:05\n",
            "     ------------ --------------------------- 5.1/16.4 MB 2.4 MB/s eta 0:00:05\n",
            "     ------------ --------------------------- 5.3/16.4 MB 2.4 MB/s eta 0:00:05\n",
            "     ------------- -------------------------- 5.4/16.4 MB 2.4 MB/s eta 0:00:05\n",
            "     ------------- -------------------------- 5.7/16.4 MB 2.5 MB/s eta 0:00:05\n",
            "     -------------- ------------------------- 5.8/16.4 MB 2.5 MB/s eta 0:00:05\n",
            "     -------------- ------------------------- 5.9/16.4 MB 2.5 MB/s eta 0:00:05\n",
            "     -------------- ------------------------- 6.1/16.4 MB 2.5 MB/s eta 0:00:05\n",
            "     --------------- ------------------------ 6.3/16.4 MB 2.6 MB/s eta 0:00:04\n",
            "     --------------- ------------------------ 6.4/16.4 MB 2.6 MB/s eta 0:00:04\n",
            "     --------------- ------------------------ 6.5/16.4 MB 2.6 MB/s eta 0:00:04\n",
            "     ---------------- ----------------------- 6.6/16.4 MB 2.6 MB/s eta 0:00:04\n",
            "     ---------------- ----------------------- 6.8/16.4 MB 2.6 MB/s eta 0:00:04\n",
            "     ---------------- ----------------------- 6.9/16.4 MB 2.6 MB/s eta 0:00:04\n",
            "     ---------------- ----------------------- 6.9/16.4 MB 2.5 MB/s eta 0:00:04\n",
            "     ----------------- ---------------------- 7.0/16.4 MB 2.5 MB/s eta 0:00:04\n",
            "     ----------------- ---------------------- 7.0/16.4 MB 2.5 MB/s eta 0:00:04\n",
            "     ----------------- ---------------------- 7.1/16.4 MB 2.5 MB/s eta 0:00:04\n",
            "     ----------------- ---------------------- 7.2/16.4 MB 2.5 MB/s eta 0:00:04\n",
            "     ------------------ --------------------- 7.4/16.4 MB 2.5 MB/s eta 0:00:04\n",
            "     ------------------ --------------------- 7.6/16.4 MB 2.5 MB/s eta 0:00:04\n",
            "     ------------------- -------------------- 7.8/16.4 MB 2.6 MB/s eta 0:00:04\n",
            "     ------------------- -------------------- 7.9/16.4 MB 2.6 MB/s eta 0:00:04\n",
            "     ------------------- -------------------- 8.0/16.4 MB 2.5 MB/s eta 0:00:04\n",
            "     ------------------- -------------------- 8.1/16.4 MB 2.5 MB/s eta 0:00:04\n",
            "     -------------------- ------------------- 8.2/16.4 MB 2.6 MB/s eta 0:00:04\n",
            "     -------------------- ------------------- 8.4/16.4 MB 2.5 MB/s eta 0:00:04\n",
            "     -------------------- ------------------- 8.6/16.4 MB 2.6 MB/s eta 0:00:04\n",
            "     --------------------- ------------------ 8.7/16.4 MB 2.6 MB/s eta 0:00:03\n",
            "     --------------------- ------------------ 8.8/16.4 MB 2.6 MB/s eta 0:00:03\n",
            "     ---------------------- ----------------- 9.1/16.4 MB 2.6 MB/s eta 0:00:03\n",
            "     ---------------------- ----------------- 9.3/16.4 MB 2.6 MB/s eta 0:00:03\n",
            "     ---------------------- ----------------- 9.4/16.4 MB 2.6 MB/s eta 0:00:03\n",
            "     ----------------------- ---------------- 9.5/16.4 MB 2.6 MB/s eta 0:00:03\n",
            "     ----------------------- ---------------- 9.6/16.4 MB 2.6 MB/s eta 0:00:03\n",
            "     ----------------------- ---------------- 9.8/16.4 MB 2.6 MB/s eta 0:00:03\n",
            "     ------------------------ --------------- 10.0/16.4 MB 2.7 MB/s eta 0:00:03\n",
            "     ------------------------ --------------- 10.2/16.4 MB 2.7 MB/s eta 0:00:03\n",
            "     ------------------------- -------------- 10.4/16.4 MB 2.8 MB/s eta 0:00:03\n",
            "     ------------------------- -------------- 10.5/16.4 MB 2.8 MB/s eta 0:00:03\n",
            "     ------------------------- -------------- 10.6/16.4 MB 2.8 MB/s eta 0:00:03\n",
            "     -------------------------- ------------- 10.9/16.4 MB 2.8 MB/s eta 0:00:02\n",
            "     --------------------------- ------------ 11.1/16.4 MB 2.9 MB/s eta 0:00:02\n",
            "     --------------------------- ------------ 11.3/16.4 MB 2.9 MB/s eta 0:00:02\n",
            "     ---------------------------- ----------- 11.5/16.4 MB 2.9 MB/s eta 0:00:02\n",
            "     ---------------------------- ----------- 11.6/16.4 MB 2.9 MB/s eta 0:00:02\n",
            "     ----------------------------- ---------- 12.0/16.4 MB 3.0 MB/s eta 0:00:02\n",
            "     ----------------------------- ---------- 12.2/16.4 MB 3.0 MB/s eta 0:00:02\n",
            "     ------------------------------ --------- 12.5/16.4 MB 3.1 MB/s eta 0:00:02\n",
            "     ------------------------------ --------- 12.6/16.4 MB 3.1 MB/s eta 0:00:02\n",
            "     ------------------------------- -------- 12.9/16.4 MB 3.1 MB/s eta 0:00:02\n",
            "     ------------------------------- -------- 13.0/16.4 MB 3.2 MB/s eta 0:00:02\n",
            "     -------------------------------- ------- 13.3/16.4 MB 3.2 MB/s eta 0:00:01\n",
            "     -------------------------------- ------- 13.5/16.4 MB 3.2 MB/s eta 0:00:01\n",
            "     --------------------------------- ------ 13.7/16.4 MB 3.2 MB/s eta 0:00:01\n",
            "     --------------------------------- ------ 13.8/16.4 MB 3.2 MB/s eta 0:00:01\n",
            "     ---------------------------------- ----- 14.0/16.4 MB 3.3 MB/s eta 0:00:01\n",
            "     ---------------------------------- ----- 14.2/16.4 MB 3.4 MB/s eta 0:00:01\n",
            "     ---------------------------------- ----- 14.3/16.4 MB 3.3 MB/s eta 0:00:01\n",
            "     ----------------------------------- ---- 14.5/16.4 MB 3.4 MB/s eta 0:00:01\n",
            "     ----------------------------------- ---- 14.7/16.4 MB 3.4 MB/s eta 0:00:01\n",
            "     ------------------------------------ --- 14.9/16.4 MB 3.4 MB/s eta 0:00:01\n",
            "     ------------------------------------ --- 15.0/16.4 MB 3.5 MB/s eta 0:00:01\n",
            "     ------------------------------------- -- 15.2/16.4 MB 3.5 MB/s eta 0:00:01\n",
            "     ------------------------------------- -- 15.3/16.4 MB 3.5 MB/s eta 0:00:01\n",
            "     ------------------------------------- -- 15.5/16.4 MB 3.5 MB/s eta 0:00:01\n",
            "     -------------------------------------- - 15.6/16.4 MB 3.5 MB/s eta 0:00:01\n",
            "     -------------------------------------- - 15.8/16.4 MB 3.4 MB/s eta 0:00:01\n",
            "     -------------------------------------- - 15.9/16.4 MB 3.4 MB/s eta 0:00:01\n",
            "     -------------------------------------- - 15.9/16.4 MB 3.4 MB/s eta 0:00:01\n",
            "     -------------------------------------- - 15.9/16.4 MB 3.4 MB/s eta 0:00:01\n",
            "     ---------------------------------------  16.4/16.4 MB 3.4 MB/s eta 0:00:01\n",
            "     ---------------------------------------  16.4/16.4 MB 3.4 MB/s eta 0:00:01\n",
            "     ---------------------------------------- 16.4/16.4 MB 3.3 MB/s eta 0:00:00\n",
            "Installing collected packages: pulp\n",
            "Note: you may need to restart the kernel to use updated packages.\n"
          ]
        },
        {
          "name": "stderr",
          "output_type": "stream",
          "text": [
            "WARNING: Ignoring invalid distribution -ip (c:\\python310\\lib\\site-packages)\n",
            "WARNING: Ignoring invalid distribution - (c:\\python310\\lib\\site-packages)\n",
            "WARNING: Ignoring invalid distribution -ip (c:\\python310\\lib\\site-packages)\n",
            "WARNING: Ignoring invalid distribution - (c:\\python310\\lib\\site-packages)\n",
            "WARNING: Ignoring invalid distribution -ip (c:\\python310\\lib\\site-packages)\n",
            "WARNING: Ignoring invalid distribution - (c:\\python310\\lib\\site-packages)\n",
            "  WARNING: Failed to write executable - trying to use .deleteme logic\n",
            "ERROR: Could not install packages due to an OSError: [WinError 2] Nie można odnaleźć określonego pliku: 'c:\\\\Python310\\\\Scripts\\\\pulptest.exe' -> 'c:\\\\Python310\\\\Scripts\\\\pulptest.exe.deleteme'\n",
            "\n",
            "WARNING: Ignoring invalid distribution -ip (c:\\python310\\lib\\site-packages)\n",
            "WARNING: Ignoring invalid distribution - (c:\\python310\\lib\\site-packages)\n",
            "WARNING: Ignoring invalid distribution -ip (c:\\python310\\lib\\site-packages)\n",
            "WARNING: Ignoring invalid distribution - (c:\\python310\\lib\\site-packages)\n",
            "WARNING: Ignoring invalid distribution -ip (c:\\python310\\lib\\site-packages)\n",
            "WARNING: Ignoring invalid distribution - (c:\\python310\\lib\\site-packages)\n",
            "\n",
            "[notice] A new release of pip is available: 23.0.1 -> 25.0.1\n",
            "[notice] To update, run: python.exe -m pip install --upgrade pip\n"
          ]
        }
      ],
      "source": [
        "#Install pulp\n",
        "%pip install pulp"
      ]
    },
    {
      "cell_type": "code",
      "execution_count": 2,
      "metadata": {
        "id": "r8NwMFZ6NQsD"
      },
      "outputs": [],
      "source": [
        "# Import the library\n",
        "import random\n",
        "import matplotlib.pyplot as plt\n",
        "from pulp import LpProblem, LpVariable, LpMaximize, lpSum, value, LpStatus"
      ]
    },
    {
      "cell_type": "markdown",
      "metadata": {
        "id": "o6c-ALIxNQsE"
      },
      "source": [
        "## Problem Formulation\n",
        "Let's consider a simple problem:\n",
        "\n",
        "Maximize: $$Z = 4x + 3y$$\n",
        "Subject to:\n",
        "$$2x + y \\leq 20$$\n",
        "$$x + y \\leq 12$$\n",
        "$$x, y \\geq 0$$"
      ]
    },
    {
      "cell_type": "code",
      "execution_count": 3,
      "metadata": {
        "id": "eRIRhOQZNQsF"
      },
      "outputs": [],
      "source": [
        "\n",
        "\n",
        "# Create a problem variable:\n",
        "prob = LpProblem(\"Maximize_the_profit_Z\", LpMaximize)\n",
        "\n",
        "# Create problem variables:\n",
        "x = LpVariable(\"x\", lowBound=0, upBound=None) # x>=0\n",
        "y = LpVariable(\"y\", lowBound=0, upBound=None) # y>=0\n"
      ]
    },
    {
      "cell_type": "markdown",
      "metadata": {
        "id": "gMewJ1LcNQsG"
      },
      "source": [
        "In linear programming problems, the objective function represents the quantity which needs to be minimized or maximized. It does not have constraints like `<=` or `>=`. On the other hand, constraints are the restrictions or limitations on the variables. They have a certain form based on the problem requirements, often represented with `<=`, `>=`, or `==`."
      ]
    },
    {
      "cell_type": "code",
      "execution_count": 4,
      "metadata": {
        "id": "YDhhgC6VNQsG"
      },
      "outputs": [],
      "source": [
        "\n",
        "# The objective function and constraints are added using the += operator to our model.\n",
        "# Objective function Z\n",
        "prob += 4*x + 3*y, \"Profit\"\n",
        "\n",
        "# Constraints\n",
        "prob += 2*x + y <= 20\n",
        "prob += x + y <= 12"
      ]
    },
    {
      "cell_type": "markdown",
      "metadata": {
        "id": "fut1GgVlNQsH"
      },
      "source": [
        "<b>Note: The names of variables or constraints must be unique and special characters must not appear, e.g. `=`,`<`,`>`."
      ]
    },
    {
      "cell_type": "code",
      "execution_count": 5,
      "metadata": {
        "id": "92ox4gAaNQsI",
        "outputId": "f46cbeb2-d8fe-48b6-91fc-e22982829e6f"
      },
      "outputs": [
        {
          "data": {
            "text/plain": [
              "Maximize_the_profit_Z:\n",
              "MAXIMIZE\n",
              "4*x + 3*y + 0\n",
              "SUBJECT TO\n",
              "_C1: 2 x + y <= 20\n",
              "\n",
              "_C2: x + y <= 12\n",
              "\n",
              "VARIABLES\n",
              "x Continuous\n",
              "y Continuous"
            ]
          },
          "execution_count": 5,
          "metadata": {},
          "output_type": "execute_result"
        }
      ],
      "source": [
        "# Problem\n",
        "prob"
      ]
    },
    {
      "cell_type": "code",
      "execution_count": 6,
      "metadata": {
        "id": "_enRGWAXNQsK",
        "outputId": "909ad7f0-2023-4bb9-b9ac-2d4d93be950e"
      },
      "outputs": [
        {
          "name": "stdout",
          "output_type": "stream",
          "text": [
            "Status: Optimal\n",
            "x = 8.0\n",
            "y = 4.0\n",
            "Total profit is:  44.0\n"
          ]
        }
      ],
      "source": [
        "# Solve the problem\n",
        "prob.solve()\n",
        "print(\"Status:\", LpStatus[prob.status])\n",
        "\n",
        "# Print the optimal production amount of x and y\n",
        "for v in prob.variables():\n",
        "    print(v.name, \"=\", v.varValue)\n",
        "\n",
        "# Print the optimal profit\n",
        "print(\"Total profit is: \", value(prob.objective))"
      ]
    },
    {
      "cell_type": "markdown",
      "metadata": {
        "id": "AZZPXQ6aNQsL"
      },
      "source": [
        "# Second Example: Solving a Knapsack Problem\n",
        "In this example, we will solve a knapsack problem. We have a set of items, each with a weight and a value, and we want to determine the number of each item to include in a collection so that the total weight is less than or equal to a given limit and the total value is as large as possible.\n",
        "\n",
        "Maximize:\n",
        "$$Z = 50x_1 + 100x_2 + 120x_3$$\n",
        "Subject to:\n",
        "$$10x_1 + 20x_2 + 30x_3 \\leq 50$$\n",
        "$$x_1, x_2, x_3  \\in \\{0,1\\}$$"
      ]
    },
    {
      "cell_type": "code",
      "execution_count": 7,
      "metadata": {
        "id": "R4Sx60o5NQsM"
      },
      "outputs": [],
      "source": [
        "# Create the 'prob' variable to contain the problem data\n",
        "prob = LpProblem(name=\"Knapsack_Problem\", sense=LpMaximize)\n",
        "\n",
        "# The 3 binary variables that can only take values of 0 or 1\n",
        "x1 = LpVariable(name=\"Item1\", cat='Binary')\n",
        "x2 = LpVariable(name=\"Item2\", cat='Binary')\n",
        "x3 = LpVariable(name=\"Item3\", cat='Binary')\n",
        "\n",
        "# The objective function is added to 'prob'\n",
        "prob += lpSum([50*x1, 100*x2, 120*x3]), \"Total Value of Items in Knapsack\"\n",
        "\n",
        "# Constraint\n",
        "prob += lpSum([10*x1, 20*x2, 30*x3]) <= 50, \"Total Weight of Items in Knapsack\""
      ]
    },
    {
      "cell_type": "code",
      "execution_count": 8,
      "metadata": {
        "id": "bQxMj7a8NQsN",
        "outputId": "4e0edd12-ff62-4df7-8b57-dabe3a145df1"
      },
      "outputs": [
        {
          "name": "stdout",
          "output_type": "stream",
          "text": [
            "Status: Optimal\n",
            "Item1 = 0.0\n",
            "Item2 = 1.0\n",
            "Item3 = 1.0\n",
            "Total value of items in knapsack is:  220.0\n"
          ]
        }
      ],
      "source": [
        "# Solve the problem\n",
        "prob.solve()\n",
        "print(\"Status:\", LpStatus[prob.status])\n",
        "\n",
        "# Print the optimal solution\n",
        "for v in prob.variables():\n",
        "    print(v.name, \"=\", v.varValue)\n",
        "\n",
        "# Print the optimal total value\n",
        "print(\"Total value of items in knapsack is: \", value(prob.objective))"
      ]
    },
    {
      "cell_type": "markdown",
      "metadata": {
        "id": "CIewVyvMNQsN"
      },
      "source": [
        "# Third Example: Using Binary Variables as Switches\n",
        "In this example, we will use a binary variable as a switch to control whether certain constraints are active or not. This is a common technique in linear programming when we want to model conditional constraints.\n",
        "\n",
        "Maximize: $$Z = b_1 + b_2 + b_3$$\n",
        "Subject to:\n",
        "$$x + y + M(1-b_1) \\geq 50$$\n",
        "$$x + 2y + M b_1 \\leq 100$$\n",
        "$$3x + 2y + M(1-b_2) \\geq 50$$\n",
        "$$-x + 5y + M b_3 > 75$$\n",
        "$$x \\geq 0, x \\leq 8$$\n",
        "$$y \\geq 0$$\n",
        "$$b_1, b_2, b_3 \\in \\{0,1\\}$$"
      ]
    },
    {
      "cell_type": "code",
      "execution_count": 9,
      "metadata": {
        "id": "qIHHkdELNQsO"
      },
      "outputs": [],
      "source": [
        "prob = LpProblem(name=\"Switch_Problem\", sense=LpMaximize)\n",
        "\n",
        "# The variables are created\n",
        "x = LpVariable(name=\"x\", lowBound=0,upBound=8)\n",
        "y = LpVariable(name=\"y\", lowBound=0)\n",
        "b1 = LpVariable(name=\"b1\", cat='Binary')\n",
        "b2 = LpVariable(name=\"b2\", cat='Binary')\n",
        "b3 = LpVariable(name=\"b3\", cat='Binary')\n",
        "\n",
        "# The objective function is added to 'prob' first\n",
        "prob += lpSum([b1,b2,b3]), \"Total Value\"\n",
        "\n",
        "\n",
        "M = 1000  # A very large number\n",
        "eps = 0.00001# A very small number\n",
        "prob += lpSum([x, y]) + M*(1-b1)>= 50 , \"Weight constraint when b1 is 1\"\n",
        "prob += lpSum([x, 2*y]) + M*b1 <= 100 , \"Weight constraint when b1 is 0\"\n",
        "prob += lpSum([3*x, 2*y]) + M*(1-b2)>= 50 , \"Weight constraint when b2 is 1\"\n",
        "# It is not possible to model sharp inequalities `>` or `<` in solver,\n",
        "# in order to model them a small epsilon value is added artificially to the non-sharp equations.\n",
        "prob += lpSum([-x, 5*y]) + M*b3 >= 75+eps , \"Weight constraint when b3 is 0\"\n"
      ]
    },
    {
      "cell_type": "code",
      "execution_count": 10,
      "metadata": {
        "id": "recGHuQ_NQsO",
        "outputId": "f827aeea-9d37-4949-e6ef-4efa01b397f9"
      },
      "outputs": [
        {
          "name": "stdout",
          "output_type": "stream",
          "text": [
            "Status: Optimal\n",
            "b1 = 0.0\n",
            "b2 = 1.0\n",
            "b3 = 1.0\n",
            "x = 8.0\n",
            "y = 13.0\n",
            "Total value is:  2.0\n"
          ]
        }
      ],
      "source": [
        "# Solve the problem\n",
        "prob.solve()\n",
        "print(\"Status:\", LpStatus[prob.status])\n",
        "\n",
        "# Print the optimal solution\n",
        "for v in prob.variables():\n",
        "    print(v.name, \"=\", v.varValue)\n",
        "\n",
        "# Print the optimal total value\n",
        "print(\"Total value is: \", value(prob.objective))"
      ]
    },
    {
      "cell_type": "markdown",
      "metadata": {
        "id": "FZGJjCpfNQsP"
      },
      "source": [
        "# Fourth example: A simplified version of the UTA method"
      ]
    },
    {
      "cell_type": "markdown",
      "metadata": {
        "id": "K6kDVmTsNQsP"
      },
      "source": [
        "The following is an example code solving the problem of ranking alternatives using the UTA method. Consider a problem with two competing criteria C_1 and C_2."
      ]
    },
    {
      "cell_type": "markdown",
      "metadata": {
        "id": "e5x3SMYcNQsQ"
      },
      "source": [
        "The following example demonstrates the application of the UTA method for ranking alternatives based on two competing criteria, $C_1$ and $C_2$.  \n",
        "\n",
        "- Criterion $C_1$ is evaluated using numerical values \\($[0, 25, 50, 75, 100]$ (0: least preferred, 100: most preferred)\\),\n",
        "\n",
        "- Criterion $C_2$ is assessed using qualitative ratings \\($['Bad', 'Poor', 'Neutral', 'Good', 'Excellent']$ ('Bad': worst, 'Excellent': best)\\).\n",
        "\n",
        "Both criteria are relevant, but their weights can not exceed $0.75$.\n",
        "\n",
        "In this example, four reference alternatives are randomly assigned values from the available criteria levels. In real-world applications, these values would be determined by a decision maker.\n",
        "\n",
        "Additionally, the decision maker provides preference information, stating that:\n",
        "-  $a_1 > a_2$\n",
        "-  $a_1 > a_3$\n",
        "-  $a_2 > a_4$\n",
        "\n",
        "The objective of this setup is not to optimize some objective function but rather to verify whether a system of equations satisfying these preferences has a feasible solution."
      ]
    },
    {
      "cell_type": "markdown",
      "metadata": {
        "id": "P4vno8vzNQsQ"
      },
      "source": [
        "Run this example several times and see that for some data sets there is a solution and for some the system of equations is contradictory."
      ]
    },
    {
      "cell_type": "code",
      "execution_count": 21,
      "metadata": {},
      "outputs": [
        {
          "name": "stdout",
          "output_type": "stream",
          "text": [
            "Skala kryteriów: [0.  0.1 0.2 0.3 0.4 0.5 0.6 0.7 0.8 0.9 1. ]\n",
            "Dynamiczna skala: [0.   0.25 0.34 0.35 0.4  0.44 0.45 0.48 0.55 0.56 0.57 0.62 0.66 0.71\n",
            " 0.8  0.83 0.86 0.88 0.91 0.95 0.97 1.  ]\n",
            "Ranking wariantów (od najlepszego):\n",
            "1. Wariant 16: Użyteczność = 1.0000\n",
            "2. Wariant 19: Użyteczność = 1.0000\n",
            "3. Wariant 10: Użyteczność = 1.0000\n",
            "4. Wariant 26: Użyteczność = 0.8900\n",
            "5. Wariant 5: Użyteczność = 0.8900\n",
            "6. Wariant 2: Użyteczność = 0.8900\n",
            "7. Wariant 21: Użyteczność = 0.8900\n",
            "8. Wariant 25: Użyteczność = 0.8000\n",
            "9. Wariant 13: Użyteczność = 0.7900\n",
            "10. Wariant 3: Użyteczność = 0.2000\n",
            "\n",
            "Wartość funkcji celu (suma użyteczności): 8.3500\n"
          ]
        },
        {
          "data": {
            "image/png": "[encoded data removed]",
            "text/plain": [
              "<Figure size 1400x400 with 3 Axes>"
            ]
          },
          "metadata": {},
          "output_type": "display_data"
        }
      ],
      "source": [
        "import pandas as pd\n",
        "import numpy as np \n",
        "\n",
        "# Dane wejściowe referencyjne\n",
        "data_ref = {\n",
        "    \"index\": [13, 25, 3, 26, 5, 16, 2, 19, 10, 21],\n",
        "    \"C1\": [0.48, 0.34, 1.00, 0.71, 0.62, 0.44, 0.66, 0.35, 0.45, 0.83],\n",
        "    \"C2\": [0.97, 1.00, 0.45, 0.25, 0.40, 0.95, 0.55, 0.91, 0.86, 0.25],\n",
        "    \"C3\": [0.00, 1.00, 0.57, 0.88, 0.56, 0.00, 0.45, 0.00, 0.00, 0.80],\n",
        "}\n",
        "df = pd.DataFrame(data_ref)\n",
        "\n",
        "# Skale kryteriów (0 do 1 z krokiem co 0.1)\n",
        "scale = np.round(np.linspace(0, 1, 11), 2)\n",
        "print(\"Skala kryteriów:\", scale)\n",
        "\n",
        "# Tworzenie skali tylko z unikalnych wartości z danych\n",
        "all_vals = np.concatenate([df[\"C1\"], df[\"C2\"], df[\"C3\"]])\n",
        "scale = np.sort(np.unique(np.round(all_vals, 2)))\n",
        "print(\"Dynamiczna skala:\", scale)\n",
        "\n",
        "# Problem optymalizacyjny\n",
        "prob = LpProblem(\"UTA_Method\", LpMaximize)\n",
        "\n",
        "# Zmienne decyzyjne – cząstkowe funkcje użyteczności\n",
        "u_C1 = {val: LpVariable(f\"u_C1_{val}\", lowBound=0, upBound=1) for val in scale}\n",
        "u_C2 = {val: LpVariable(f\"u_C2_{val}\", lowBound=0, upBound=1) for val in scale}\n",
        "u_C3 = {val: LpVariable(f\"u_C3_{val}\", lowBound=0, upBound=1) for val in scale}\n",
        "\n",
        "    \n",
        "# Monotoniczność odwrotna (koszt – im wyżej, tym gorzej)\n",
        "for i in range(len(scale) - 1):\n",
        "    prob += u_C1[scale[i]] >= u_C1[scale[i + 1]]\n",
        "    prob += u_C2[scale[i]] >= u_C2[scale[i + 1]]\n",
        "    prob += u_C3[scale[i]] >= u_C3[scale[i + 1]]\n",
        "\n",
        "prob += u_C1[1] == 0\n",
        "prob += u_C2[1] == 0\n",
        "prob += u_C3[1] == 0\n",
        "prob += u_C1[0] + u_C2[0] + u_C3[0] == 1\n",
        "prob += u_C1[0] >= 0.1\n",
        "prob += u_C2[0] >= 0.1\n",
        "prob += u_C3[0] >= 0.1\n",
        "\n",
        "\n",
        "# Funkcja do interpolacji\n",
        "def interpolate(val, u_dict):\n",
        "    lower = max([v for v in scale if v <= val])\n",
        "    upper = min([v for v in scale if v >= val])\n",
        "    if lower == upper:\n",
        "        return u_dict[lower]\n",
        "    alpha = (val - lower) / (upper - lower)\n",
        "    return (1 - alpha) * u_dict[lower] + alpha * u_dict[upper]\n",
        "\n",
        "# Zmienne dla użyteczności wariantów\n",
        "utilities = {}\n",
        "for i, row in df.iterrows():\n",
        "    idx = int(row[\"index\"])\n",
        "    util = LpVariable(f\"U_{idx}\", lowBound=0, upBound=1)\n",
        "    utilities[idx] = util\n",
        "\n",
        "    uc1 = interpolate(row[\"C1\"], u_C1)\n",
        "    uc2 = interpolate(row[\"C2\"], u_C2)\n",
        "    uc3 = interpolate(row[\"C3\"], u_C3)\n",
        "    prob += util == uc1 + uc2 + uc3\n",
        "\n",
        "# Preferencje decydenta:\n",
        "epsilon = 0.01\n",
        "prob += utilities[25] >= utilities[13] + epsilon  # produkcja energii i brak pożyczek\n",
        "prob += utilities[13] >= utilities[3] + epsilon   # R2 > R1 > R3\n",
        "\n",
        "# Funkcja celu – maksymalizacja sumy użyteczności\n",
        "prob += lpSum([utilities[k] for k in utilities])\n",
        "\n",
        "# Rozwiązywanie\n",
        "prob.solve()\n",
        "\n",
        "# Wyniki: użyteczności i ranking\n",
        "utility_values = {k: value(v) for k, v in utilities.items()}\n",
        "ranking = sorted(utility_values.items(), key=lambda x: x[1], reverse=True)\n",
        "\n",
        "print(\"Ranking wariantów (od najlepszego):\")\n",
        "for rank, (idx, val) in enumerate(ranking, 1):\n",
        "    print(f\"{rank}. Wariant {idx}: Użyteczność = {val:.4f}\")\n",
        "\n",
        "print(f\"\\nWartość funkcji celu (suma użyteczności): {value(prob.objective):.4f}\")\n",
        "\n",
        "# Wykresy cząstkowych funkcji użyteczności\n",
        "plt.figure(figsize=(14, 4))\n",
        "\n",
        "plt.subplot(1, 3, 1)\n",
        "plt.plot(scale, [value(u_C1[v]) for v in scale], 'o-', label='C1')\n",
        "plt.title(\"Funkcja użyteczności – C1\")\n",
        "plt.xlabel(\"C1\"); plt.ylabel(\"u(C1)\"); plt.grid()\n",
        "\n",
        "plt.subplot(1, 3, 2)\n",
        "plt.plot(scale, [value(u_C2[v]) for v in scale], 'o-', label='C2', color='g')\n",
        "plt.title(\"Funkcja użyteczności – C2\")\n",
        "plt.xlabel(\"C2\"); plt.ylabel(\"u(C2)\"); plt.grid()\n",
        "\n",
        "plt.subplot(1, 3, 3)\n",
        "plt.plot(scale, [value(u_C3[v]) for v in scale], 'o-', label='C3', color='r')\n",
        "plt.title(\"Funkcja użyteczności – C3\")\n",
        "plt.xlabel(\"C3\"); plt.ylabel(\"u(C3)\"); plt.grid()\n",
        "\n",
        "plt.tight_layout()\n",
        "plt.show()"
      ]
    },
    {
      "cell_type": "code",
      "execution_count": 11,
      "metadata": {
        "id": "lZ6NYa_JNQsQ",
        "outputId": "e0376865-16f4-4561-e0e4-0130f9ae0c69"
      },
      "outputs": [
        {
          "name": "stdout",
          "output_type": "stream",
          "text": [
            "Status: Infeasible\n",
            "\n",
            "Optimal Solution:\n",
            "Alternative1_Utility = 0.02\n",
            "Alternative2_Utility = 0.01\n",
            "Alternative3_Utility = 0.0\n",
            "Alternative4_Utility = 0.0\n",
            "__dummy = None\n",
            "criterion1_0 = 0.0\n",
            "criterion1_100 = 0.75\n",
            "criterion1_25 = 0.0\n",
            "criterion1_50 = 0.0\n",
            "criterion1_75 = 0.0\n",
            "criterion2_Bad = 0.0\n",
            "criterion2_Excellent = 0.25\n",
            "criterion2_Good = 0.0\n",
            "criterion2_Neutral = 0.0\n",
            "criterion2_Poor = 0.02\n",
            "\n",
            "Objective value: None\n"
          ]
        }
      ],
      "source": [
        "# Define criteria values\n",
        "criterion1_values = [0, 25, 50, 75, 100]\n",
        "criterion2_values = [\"Bad\", \"Poor\", \"Neutral\", \"Good\", \"Excellent\"]\n",
        "\n",
        "# Create LP problem\n",
        "prob = LpProblem(\"Simplified_UTA_Method\", LpMaximize)\n",
        "\n",
        "# Create decision variables for criteria\n",
        "criterion1_vars = {val: LpVariable(f\"criterion1_{val}\", lowBound=0, upBound=1) for val in criterion1_values}\n",
        "criterion2_vars = {val: LpVariable(f\"criterion2_{val}\", lowBound=0, upBound=1) for val in criterion2_values}\n",
        "\n",
        "# Monotonicity constraints\n",
        "for i in range(len(criterion1_values) - 1):\n",
        "    prob += criterion1_vars[criterion1_values[i]] <= criterion1_vars[criterion1_values[i + 1]], f\"Monotonicity_C1_{i}\"\n",
        "for i in range(len(criterion2_values) - 1):\n",
        "    prob += criterion2_vars[criterion2_values[i]] <= criterion2_vars[criterion2_values[i + 1]], f\"Monotonicity_C2_{i}\"\n",
        "\n",
        "# Normalization constraints\n",
        "prob += criterion1_vars[0] == 0, \"Normalize_C1_Lowest\"\n",
        "prob += criterion2_vars[\"Bad\"] == 0, \"Normalize_C2_Lowest\"\n",
        "prob += criterion1_vars[100] + criterion2_vars[\"Excellent\"] == 1, \"Normalize_Criteria_Sum\"\n",
        "\n",
        "# Weight constraints (not part of UTA but additional constraint)\n",
        "prob += criterion1_vars[100] <= 0.75, \"Weight_C1_Limit\"\n",
        "prob += criterion2_vars[\"Excellent\"] <= 0.75, \"Weight_C2_Limit\"\n",
        "\n",
        "# Define alternatives with random evaluations\n",
        "alternatives = {\n",
        "    f\"Alternative{i+1}\": {\n",
        "        \"C1\": random.choice(criterion1_values),\n",
        "        \"C2\": random.choice(criterion2_values)\n",
        "    }\n",
        "    for i in range(4)\n",
        "}\n",
        "\n",
        "# Create utility variables and constraints\n",
        "alternative_utilities = {}\n",
        "for name, evals in alternatives.items():\n",
        "    utility_var = LpVariable(f\"{name}_Utility\", lowBound=0)\n",
        "    alternative_utilities[name] = utility_var\n",
        "\n",
        "    # Sum of selected criteria variables defines utility\n",
        "    prob += utility_var == lpSum([criterion1_vars[evals[\"C1\"]], criterion2_vars[evals[\"C2\"]]]), f\"Utility_{name}\"\n",
        "\n",
        "# Preference constraints provided by the decision maker\n",
        "epsilon = 0.01 # Small value to ensure strict preference\n",
        "prob += alternative_utilities[\"Alternative1\"] >= alternative_utilities[\"Alternative2\"] + epsilon, \"Pref_A1_A2\"\n",
        "prob += alternative_utilities[\"Alternative1\"] >= alternative_utilities[\"Alternative3\"] + epsilon, \"Pref_A1_A3\"\n",
        "prob += alternative_utilities[\"Alternative2\"] >= alternative_utilities[\"Alternative4\"] + epsilon, \"Pref_A2_A4\"\n",
        "\n",
        "# No specific objective function; checking feasibility\n",
        "# You need to write your own objective function depending on the variant of the UTA method.\n",
        "\n",
        "prob += 0 # Placeholder objective function\n",
        "\n",
        "# Solve the problem\n",
        "prob.solve()\n",
        "\n",
        "# Print results\n",
        "print(f\"Status: {LpStatus[prob.status]}\")\n",
        "print(\"\\nOptimal Solution:\")\n",
        "for var in prob.variables():\n",
        "    print(f\"{var.name} = {value(var)}\")\n",
        "\n",
        "print(\"\\nObjective value:\", value(prob.objective))\n",
        "# In the results below, there is  __dummy = None which is a placeholder for the objective function."
      ]
    },
    {
      "cell_type": "code",
      "execution_count": 12,
      "metadata": {
        "id": "PvEtPxTuNQsR",
        "outputId": "1ff794c3-51bf-40aa-dffe-01d3996c7391"
      },
      "outputs": [
        {
          "data": {
            "image/png": "[encoded data removed]",
            "text/plain": [
              "<Figure size 800x600 with 1 Axes>"
            ]
          },
          "metadata": {},
          "output_type": "display_data"
        }
      ],
      "source": [
        "# This example demonstrates how to plot the partial utility function for criterion 1\n",
        "solver_values = [value(criterion1_vars[val]) for val in criterion1_values]\n",
        "\n",
        "plt.figure(figsize=(8, 6))\n",
        "plt.plot(criterion1_values, solver_values, marker='o', linestyle='-', color='b', label='$u(g_{C_1})$')\n",
        "plt.xlabel('$g_{C_1}$')\n",
        "plt.ylabel('$u(g_{C_1})$')\n",
        "plt.title('Plot of the partial utility function for criterion $C_1$')\n",
        "plt.xticks(criterion1_values)\n",
        "plt.grid(True)\n",
        "plt.show()\n"
      ]
    }
  ],
  "metadata": {
    "colab": {
      "provenance": []
    },
    "kernelspec": {
      "display_name": "Python 3",
      "language": "python",
      "name": "python3"
    },
    "language_info": {
      "codemirror_mode": {
        "name": "ipython",
        "version": 3
      },
      "file_extension": ".py",
      "mimetype": "text/x-python",
      "name": "python",
      "nbconvert_exporter": "python",
      "pygments_lexer": "ipython3",
      "version": "3.10.11"
    }
  },
  "nbformat": 4,
  "nbformat_minor": 0
}
