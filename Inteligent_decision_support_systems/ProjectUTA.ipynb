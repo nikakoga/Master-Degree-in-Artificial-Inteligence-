{
  "cells": [
    {
      "cell_type": "markdown",
      "metadata": {
        "id": "U877GvodNQr4"
      },
      "source": [
        "# Introduction\n",
        "In this tutorial, we will learn how to use the PuLP library in Python to solve linear programming problems. Linear programming is a method to achieve the best outcome in a mathematical model whose requirements are represented by linear constraints."
      ]
    },
    {
      "cell_type": "code",
      "execution_count": 1,
      "metadata": {
        "id": "paVEe0Z9NQsB"
      },
      "outputs": [
        {
          "name": "stdout",
          "output_type": "stream",
          "text": [
            "Requirement already satisfied: pulp in c:\\python310\\lib\\site-packages (3.1.1)\n",
            "Note: you may need to restart the kernel to use updated packages.\n"
          ]
        },
        {
          "name": "stderr",
          "output_type": "stream",
          "text": [
            "WARNING: Ignoring invalid distribution -ip (c:\\python310\\lib\\site-packages)\n",
            "WARNING: Ignoring invalid distribution - (c:\\python310\\lib\\site-packages)\n",
            "WARNING: Ignoring invalid distribution -ip (c:\\python310\\lib\\site-packages)\n",
            "WARNING: Ignoring invalid distribution - (c:\\python310\\lib\\site-packages)\n",
            "WARNING: Ignoring invalid distribution -ip (c:\\python310\\lib\\site-packages)\n",
            "WARNING: Ignoring invalid distribution - (c:\\python310\\lib\\site-packages)\n",
            "WARNING: Ignoring invalid distribution -ip (c:\\python310\\lib\\site-packages)\n",
            "WARNING: Ignoring invalid distribution - (c:\\python310\\lib\\site-packages)\n",
            "WARNING: Ignoring invalid distribution -ip (c:\\python310\\lib\\site-packages)\n",
            "WARNING: Ignoring invalid distribution - (c:\\python310\\lib\\site-packages)\n",
            "WARNING: Ignoring invalid distribution -ip (c:\\python310\\lib\\site-packages)\n",
            "WARNING: Ignoring invalid distribution - (c:\\python310\\lib\\site-packages)\n",
            "\n",
            "[notice] A new release of pip is available: 23.0.1 -> 25.0.1\n",
            "[notice] To update, run: python.exe -m pip install --upgrade pip\n"
          ]
        }
      ],
      "source": [
        "#Install pulp\n",
        "%pip install pulp"
      ]
    },
    {
      "cell_type": "code",
      "execution_count": 2,
      "metadata": {
        "id": "r8NwMFZ6NQsD"
      },
      "outputs": [],
      "source": [
        "# Import the library\n",
        "import random\n",
        "import matplotlib.pyplot as plt\n",
        "from pulp import LpProblem, LpVariable, LpMaximize, lpSum, value, LpStatus"
      ]
    },
    {
      "cell_type": "markdown",
      "metadata": {
        "id": "o6c-ALIxNQsE"
      },
      "source": [
        "## Problem Formulation\n",
        "Let's consider a simple problem:\n",
        "\n",
        "Maximize: $$Z = 4x + 3y$$\n",
        "Subject to:\n",
        "$$2x + y \\leq 20$$\n",
        "$$x + y \\leq 12$$\n",
        "$$x, y \\geq 0$$"
      ]
    },
    {
      "cell_type": "code",
      "execution_count": 3,
      "metadata": {
        "id": "eRIRhOQZNQsF"
      },
      "outputs": [],
      "source": [
        "\n",
        "\n",
        "# Create a problem variable:\n",
        "prob = LpProblem(\"Maximize_the_profit_Z\", LpMaximize)\n",
        "\n",
        "# Create problem variables:\n",
        "x = LpVariable(\"x\", lowBound=0, upBound=None) # x>=0\n",
        "y = LpVariable(\"y\", lowBound=0, upBound=None) # y>=0\n"
      ]
    },
    {
      "cell_type": "markdown",
      "metadata": {
        "id": "gMewJ1LcNQsG"
      },
      "source": [
        "In linear programming problems, the objective function represents the quantity which needs to be minimized or maximized. It does not have constraints like `<=` or `>=`. On the other hand, constraints are the restrictions or limitations on the variables. They have a certain form based on the problem requirements, often represented with `<=`, `>=`, or `==`."
      ]
    },
    {
      "cell_type": "code",
      "execution_count": 4,
      "metadata": {
        "id": "YDhhgC6VNQsG"
      },
      "outputs": [],
      "source": [
        "\n",
        "# The objective function and constraints are added using the += operator to our model.\n",
        "# Objective function Z\n",
        "prob += 4*x + 3*y, \"Profit\"\n",
        "\n",
        "# Constraints\n",
        "prob += 2*x + y <= 20\n",
        "prob += x + y <= 12"
      ]
    },
    {
      "cell_type": "markdown",
      "metadata": {
        "id": "fut1GgVlNQsH"
      },
      "source": [
        "<b>Note: The names of variables or constraints must be unique and special characters must not appear, e.g. `=`,`<`,`>`."
      ]
    },
    {
      "cell_type": "code",
      "execution_count": 5,
      "metadata": {
        "id": "92ox4gAaNQsI",
        "outputId": "f46cbeb2-d8fe-48b6-91fc-e22982829e6f"
      },
      "outputs": [
        {
          "data": {
            "text/plain": [
              "Maximize_the_profit_Z:\n",
              "MAXIMIZE\n",
              "4*x + 3*y + 0\n",
              "SUBJECT TO\n",
              "_C1: 2 x + y <= 20\n",
              "\n",
              "_C2: x + y <= 12\n",
              "\n",
              "VARIABLES\n",
              "x Continuous\n",
              "y Continuous"
            ]
          },
          "execution_count": 5,
          "metadata": {},
          "output_type": "execute_result"
        }
      ],
      "source": [
        "# Problem\n",
        "prob"
      ]
    },
    {
      "cell_type": "code",
      "execution_count": 6,
      "metadata": {
        "id": "_enRGWAXNQsK",
        "outputId": "909ad7f0-2023-4bb9-b9ac-2d4d93be950e"
      },
      "outputs": [
        {
          "name": "stdout",
          "output_type": "stream",
          "text": [
            "Status: Optimal\n",
            "x = 8.0\n",
            "y = 4.0\n",
            "Total profit is:  44.0\n"
          ]
        }
      ],
      "source": [
        "# Solve the problem\n",
        "prob.solve()\n",
        "print(\"Status:\", LpStatus[prob.status])\n",
        "\n",
        "# Print the optimal production amount of x and y\n",
        "for v in prob.variables():\n",
        "    print(v.name, \"=\", v.varValue)\n",
        "\n",
        "# Print the optimal profit\n",
        "print(\"Total profit is: \", value(prob.objective))"
      ]
    },
    {
      "cell_type": "markdown",
      "metadata": {
        "id": "AZZPXQ6aNQsL"
      },
      "source": [
        "# Second Example: Solving a Knapsack Problem\n",
        "In this example, we will solve a knapsack problem. We have a set of items, each with a weight and a value, and we want to determine the number of each item to include in a collection so that the total weight is less than or equal to a given limit and the total value is as large as possible.\n",
        "\n",
        "Maximize:\n",
        "$$Z = 50x_1 + 100x_2 + 120x_3$$\n",
        "Subject to:\n",
        "$$10x_1 + 20x_2 + 30x_3 \\leq 50$$\n",
        "$$x_1, x_2, x_3  \\in \\{0,1\\}$$"
      ]
    },
    {
      "cell_type": "code",
      "execution_count": 7,
      "metadata": {
        "id": "R4Sx60o5NQsM"
      },
      "outputs": [],
      "source": [
        "# Create the 'prob' variable to contain the problem data\n",
        "prob = LpProblem(name=\"Knapsack_Problem\", sense=LpMaximize)\n",
        "\n",
        "# The 3 binary variables that can only take values of 0 or 1\n",
        "x1 = LpVariable(name=\"Item1\", cat='Binary')\n",
        "x2 = LpVariable(name=\"Item2\", cat='Binary')\n",
        "x3 = LpVariable(name=\"Item3\", cat='Binary')\n",
        "\n",
        "# The objective function is added to 'prob'\n",
        "prob += lpSum([50*x1, 100*x2, 120*x3]), \"Total Value of Items in Knapsack\"\n",
        "\n",
        "# Constraint\n",
        "prob += lpSum([10*x1, 20*x2, 30*x3]) <= 50, \"Total Weight of Items in Knapsack\""
      ]
    },
    {
      "cell_type": "code",
      "execution_count": 8,
      "metadata": {
        "id": "bQxMj7a8NQsN",
        "outputId": "4e0edd12-ff62-4df7-8b57-dabe3a145df1"
      },
      "outputs": [
        {
          "name": "stdout",
          "output_type": "stream",
          "text": [
            "Status: Optimal\n",
            "Item1 = 0.0\n",
            "Item2 = 1.0\n",
            "Item3 = 1.0\n",
            "Total value of items in knapsack is:  220.0\n"
          ]
        }
      ],
      "source": [
        "# Solve the problem\n",
        "prob.solve()\n",
        "print(\"Status:\", LpStatus[prob.status])\n",
        "\n",
        "# Print the optimal solution\n",
        "for v in prob.variables():\n",
        "    print(v.name, \"=\", v.varValue)\n",
        "\n",
        "# Print the optimal total value\n",
        "print(\"Total value of items in knapsack is: \", value(prob.objective))"
      ]
    },
    {
      "cell_type": "markdown",
      "metadata": {
        "id": "CIewVyvMNQsN"
      },
      "source": [
        "# Third Example: Using Binary Variables as Switches\n",
        "In this example, we will use a binary variable as a switch to control whether certain constraints are active or not. This is a common technique in linear programming when we want to model conditional constraints.\n",
        "\n",
        "Maximize: $$Z = b_1 + b_2 + b_3$$\n",
        "Subject to:\n",
        "$$x + y + M(1-b_1) \\geq 50$$\n",
        "$$x + 2y + M b_1 \\leq 100$$\n",
        "$$3x + 2y + M(1-b_2) \\geq 50$$\n",
        "$$-x + 5y + M b_3 > 75$$\n",
        "$$x \\geq 0, x \\leq 8$$\n",
        "$$y \\geq 0$$\n",
        "$$b_1, b_2, b_3 \\in \\{0,1\\}$$"
      ]
    },
    {
      "cell_type": "code",
      "execution_count": 9,
      "metadata": {
        "id": "qIHHkdELNQsO"
      },
      "outputs": [],
      "source": [
        "prob = LpProblem(name=\"Switch_Problem\", sense=LpMaximize)\n",
        "\n",
        "# The variables are created\n",
        "x = LpVariable(name=\"x\", lowBound=0,upBound=8)\n",
        "y = LpVariable(name=\"y\", lowBound=0)\n",
        "b1 = LpVariable(name=\"b1\", cat='Binary')\n",
        "b2 = LpVariable(name=\"b2\", cat='Binary')\n",
        "b3 = LpVariable(name=\"b3\", cat='Binary')\n",
        "\n",
        "# The objective function is added to 'prob' first\n",
        "prob += lpSum([b1,b2,b3]), \"Total Value\"\n",
        "\n",
        "\n",
        "M = 1000  # A very large number\n",
        "eps = 0.00001# A very small number\n",
        "prob += lpSum([x, y]) + M*(1-b1)>= 50 , \"Weight constraint when b1 is 1\"\n",
        "prob += lpSum([x, 2*y]) + M*b1 <= 100 , \"Weight constraint when b1 is 0\"\n",
        "prob += lpSum([3*x, 2*y]) + M*(1-b2)>= 50 , \"Weight constraint when b2 is 1\"\n",
        "# It is not possible to model sharp inequalities `>` or `<` in solver,\n",
        "# in order to model them a small epsilon value is added artificially to the non-sharp equations.\n",
        "prob += lpSum([-x, 5*y]) + M*b3 >= 75+eps , \"Weight constraint when b3 is 0\"\n"
      ]
    },
    {
      "cell_type": "code",
      "execution_count": 10,
      "metadata": {
        "id": "recGHuQ_NQsO",
        "outputId": "f827aeea-9d37-4949-e6ef-4efa01b397f9"
      },
      "outputs": [
        {
          "name": "stdout",
          "output_type": "stream",
          "text": [
            "Status: Optimal\n",
            "b1 = 0.0\n",
            "b2 = 1.0\n",
            "b3 = 1.0\n",
            "x = 8.0\n",
            "y = 13.0\n",
            "Total value is:  2.0\n"
          ]
        }
      ],
      "source": [
        "# Solve the problem\n",
        "prob.solve()\n",
        "print(\"Status:\", LpStatus[prob.status])\n",
        "\n",
        "# Print the optimal solution\n",
        "for v in prob.variables():\n",
        "    print(v.name, \"=\", v.varValue)\n",
        "\n",
        "# Print the optimal total value\n",
        "print(\"Total value is: \", value(prob.objective))"
      ]
    },
    {
      "cell_type": "markdown",
      "metadata": {
        "id": "FZGJjCpfNQsP"
      },
      "source": [
        "# Fourth example: A simplified version of the UTA method"
      ]
    },
    {
      "cell_type": "markdown",
      "metadata": {
        "id": "K6kDVmTsNQsP"
      },
      "source": [
        "The following is an example code solving the problem of ranking alternatives using the UTA method. Consider a problem with two competing criteria C_1 and C_2."
      ]
    },
    {
      "cell_type": "markdown",
      "metadata": {
        "id": "e5x3SMYcNQsQ"
      },
      "source": [
        "The following example demonstrates the application of the UTA method for ranking alternatives based on two competing criteria, $C_1$ and $C_2$.  \n",
        "\n",
        "- Criterion $C_1$ is evaluated using numerical values \\($[0, 25, 50, 75, 100]$ (0: least preferred, 100: most preferred)\\),\n",
        "\n",
        "- Criterion $C_2$ is assessed using qualitative ratings \\($['Bad', 'Poor', 'Neutral', 'Good', 'Excellent']$ ('Bad': worst, 'Excellent': best)\\).\n",
        "\n",
        "Both criteria are relevant, but their weights can not exceed $0.75$.\n",
        "\n",
        "In this example, four reference alternatives are randomly assigned values from the available criteria levels. In real-world applications, these values would be determined by a decision maker.\n",
        "\n",
        "Additionally, the decision maker provides preference information, stating that:\n",
        "-  $a_1 > a_2$\n",
        "-  $a_1 > a_3$\n",
        "-  $a_2 > a_4$\n",
        "\n",
        "The objective of this setup is not to optimize some objective function but rather to verify whether a system of equations satisfying these preferences has a feasible solution."
      ]
    },
    {
      "cell_type": "markdown",
      "metadata": {
        "id": "P4vno8vzNQsQ"
      },
      "source": [
        "Run this example several times and see that for some data sets there is a solution and for some the system of equations is contradictory."
      ]
    },
    {
      "cell_type": "markdown",
      "metadata": {},
      "source": [
        "# Weronika Koga 151574"
      ]
    },
    {
      "cell_type": "markdown",
      "metadata": {},
      "source": [
        "# Zapraszam do wzięcia udziału w podróży moich prób i błędów.\n",
        "\n",
        "Disclaimer - podróż zaczyna się od 0, a więc nawet jeśli na danym etapie coś wydaje się absolutnie źle, jest wciąż szansa, że zauważyłam to później i poprawiłam. Chciałam jednak pokazać ile pracy w to włożyłam na wypadek gdybym została posądzona przez bezlitosne narzędzie antyplagiatowe o plagiat.\n",
        "\n",
        "Legenda:\n",
        "* czesc 0 - pomijalna\n",
        "* czesc 1 - kierowanie sie wyłącznie maksymalizacją funkcji celu oraz to jak bardzo nie uwzglednia ona preferencji decydenta, dla paru różnych epsilonów\n",
        "* część 2 - maksymalizacja epsilona"
      ]
    },
    {
      "cell_type": "code",
      "execution_count": null,
      "metadata": {},
      "outputs": [
        {
          "name": "stdout",
          "output_type": "stream",
          "text": [
            "Dynamiczna skala: [0.   0.25 0.34 0.35 0.4  0.44 0.45 0.48 0.55 0.56 0.57 0.62 0.66 0.71\n",
            " 0.8  0.83 0.86 0.88 0.91 0.95 0.97 1.  ]\n"
          ]
        }
      ],
      "source": [
        "# czesc 0 - zmienne i dane ktore predzej czy pozniej w swojej nieuwadze i przemęczeniu przypadkiem nadpisze, znajduja sie tu abym mogla je odzyskac. Nic ciekawego.\n",
        "\n",
        "import pandas as pd\n",
        "import numpy as np \n",
        "\n",
        "# Ustawienia wyświetlania tabeli w jednym wierszu\n",
        "pd.set_option('display.max_columns', None)  # Wyświetl wszystkie kolumny\n",
        "pd.set_option('display.expand_frame_repr', False)  # Nie zawijaj wierszy\n",
        "\n",
        "# Dane wejściowe referencyjne\n",
        "data_ref = {\n",
        "    \"index\": [13, 25, 3, 26, 5, 16, 2, 19, 10, 21],\n",
        "    \"C1\": [0.48, 0.34, 1.00, 0.71, 0.62, 0.44, 0.66, 0.35, 0.45, 0.83],\n",
        "    \"C2\": [0.97, 1.00, 0.45, 0.25, 0.40, 0.95, 0.55, 0.91, 0.86, 0.25],\n",
        "    \"C3\": [0.00, 1.00, 0.57, 0.88, 0.56, 0.00, 0.45, 0.00, 0.00, 0.80],\n",
        "}\n",
        "df = pd.DataFrame(data_ref)\n",
        "\n",
        "# Moglam zrobic skale z krokiem, ale ludzie robili dynamicznie a ze robie sama to ich opinia moze byc jakakolwiek pomoca\n",
        "all_vals = np.concatenate([df[\"C1\"], df[\"C2\"], df[\"C3\"]])\n",
        "scale = np.sort(np.unique(np.round(all_vals, 2)))\n",
        "print(\"Dynamiczna skala:\", scale)"
      ]
    },
    {
      "cell_type": "code",
      "execution_count": null,
      "metadata": {},
      "outputs": [
        {
          "name": "stdout",
          "output_type": "stream",
          "text": [
            "Epsilon = 1e-08, status = Optimal, objective = 8.899999959999999\n",
            "Epsilon = 0.01, status = Optimal, objective = 8.85\n",
            "Epsilon = 0.05, status = Optimal, objective = 8.65\n",
            "Epsilon = 1, status = Infeasible, objective = 3.0\n",
            "Epsilon = 0.1, status = Optimal, objective = 8.4\n",
            "Epsilon = 0.2, status = Optimal, objective = 7.8\n",
            "Epsilon = 0.333, status = Optimal, objective = 7.002\n",
            "\n",
            "Najlepsza wartość funkcji celu: 8.9000 dla epsilon = 1e-08\n",
            "\n",
            "Tabela rankingów:\n",
            "Epsilon  Epsilon 1e-08  Epsilon 0.01  Epsilon 0.05  Epsilon 1  Epsilon 0.1  Epsilon 0.2  Epsilon 0.333\n",
            "Wariant                                                                                               \n",
            "13                   1             4             4          5            4            4              4\n",
            "25                  10            10            10         10           10           10             10\n",
            "3                    8             8             8          1            5            5              5\n",
            "26                   9             9             9          6            9            9              9\n",
            "5                    2             1             1          2            1            1              1\n",
            "16                   5             5             5          7            6            6              6\n",
            "2                    6             6             6          8            7            7              7\n",
            "19                   3             2             2          3            2            2              2\n",
            "10                   4             3             3          4            3            3              3\n",
            "21                   7             7             7          9            8            8              8\n"
          ]
        }
      ],
      "source": [
        "# Lista indeksów moich wariantów oraz epsilony na których będę testować\n",
        "variant_indices = df[\"index\"].tolist()\n",
        "eps = [0.00000001, 0.01, 0.05, 1, 0.1, 0.2, 0.333]\n",
        "\n",
        "# Słownik do przechowywania pozycji wariantów dla każdego epsilon\n",
        "rankings_table = {variant: [] for variant in variant_indices}\n",
        "\n",
        "best_objective = -float('inf')  # Najlepsza wartość funkcji celu\n",
        "best_epsilon = None  # Epsilon dla najlepszej wartości funkcji celu\n",
        "\n",
        "# Zmienna do przechowywania najlepszych funkcji cząstkowych\n",
        "best_u_C1_vals = None\n",
        "best_u_C2_vals = None\n",
        "best_u_C3_vals = None\n",
        "\n",
        "for epsilon in eps:\n",
        "    # Problem optymalizacyjny\n",
        "    prob = LpProblem(\"UTA_Method\", LpMaximize)\n",
        "\n",
        "    # Zmienne decyzyjne – cząstkowe funkcje użyteczności\n",
        "    u_C1 = {val: LpVariable(f\"u_C1_{val}\", lowBound=0, upBound=1) for val in scale}\n",
        "    u_C2 = {val: LpVariable(f\"u_C2_{val}\", lowBound=0, upBound=1) for val in scale}\n",
        "    u_C3 = {val: LpVariable(f\"u_C3_{val}\", lowBound=0, upBound=1) for val in scale}\n",
        "\n",
        "    # Monotoniczność odwrotna (koszt – im wyżej, tym gorzej)\n",
        "    for i in range(len(scale) - 1):\n",
        "        prob += u_C1[scale[i]] >= u_C1[scale[i + 1]]\n",
        "        prob += u_C2[scale[i]] >= u_C2[scale[i + 1]]\n",
        "        prob += u_C3[scale[i]] >= u_C3[scale[i + 1]]\n",
        "\n",
        "    prob += u_C1[1] == 0\n",
        "    prob += u_C2[1] == 0\n",
        "    prob += u_C3[1] == 0\n",
        "    prob += u_C1[0] + u_C2[0] + u_C3[0] == 1\n",
        "    prob += u_C1[0] >= 0.1\n",
        "    prob += u_C2[0] >= 0.1\n",
        "    prob += u_C3[0] >= 0.1\n",
        "\n",
        "    # Funkcja do interpolacji\n",
        "    def interpolate(val, u_dict):\n",
        "        lower = max([v for v in scale if v <= val])\n",
        "        upper = min([v for v in scale if v >= val])\n",
        "        if lower == upper:\n",
        "            return u_dict[lower]\n",
        "        alpha = (val - lower) / (upper - lower)\n",
        "        return (1 - alpha) * u_dict[lower] + alpha * u_dict[upper]\n",
        "\n",
        "    # Zmienne dla użyteczności wariantów\n",
        "    utilities = {}\n",
        "    for i, row in df.iterrows():\n",
        "        idx = int(row[\"index\"])\n",
        "        util = LpVariable(f\"U_{idx}\", lowBound=0, upBound=1)\n",
        "        utilities[idx] = util\n",
        "\n",
        "        uc1 = interpolate(row[\"C1\"], u_C1)\n",
        "        uc2 = interpolate(row[\"C2\"], u_C2)\n",
        "        uc3 = interpolate(row[\"C3\"], u_C3)\n",
        "        prob += util == uc1 + uc2 + uc3\n",
        "\n",
        "    # Preferencje lokalizacyjne R2 > R1 > R3\n",
        "    prob += utilities[13] >= utilities[25] + epsilon  # R2 > R3\n",
        "    prob += utilities[3] >= utilities[26] + epsilon  # R1 > R3\n",
        "    prob += utilities[5] >= utilities[16] + epsilon  # R2 > R3\n",
        "\n",
        "    # Preferencje finansowania F1 > F2 > F3\n",
        "    prob += utilities[19] >= utilities[2] + epsilon  # F1 > F2\n",
        "    prob += utilities[10] >= utilities[21] + epsilon  # F1 > F3\n",
        "\n",
        "    # Funkcja celu – maksymalizacja sumy użyteczności\n",
        "    prob += lpSum([utilities[k] for k in utilities])\n",
        "\n",
        "    # Rozwiązywanie\n",
        "    prob.solve()\n",
        "\n",
        "    # Zapisanie wyników dla tego epsilon\n",
        "    utility_values = {k: value(v) for k, v in utilities.items()}\n",
        "    ranking = sorted(utility_values.items(), key=lambda x: x[1], reverse=True)\n",
        "\n",
        "    # Zapisanie rankingu dla każdego wariantu\n",
        "    for rank, (idx, val) in enumerate(ranking, 1):\n",
        "        rankings_table[idx].append(rank)\n",
        "\n",
        "    # Sprawdzenie, czy to najlepsza wartość funkcji celu\n",
        "    if value(prob.objective) > best_objective:\n",
        "        best_objective = value(prob.objective)\n",
        "        best_epsilon = epsilon\n",
        "\n",
        "        # Nadpisanie najlepszych funkcji cząstkowych\n",
        "        best_u_C1_vals = {val: value(u_C1[val]) for val in scale}\n",
        "        best_u_C2_vals = {val: value(u_C2[val]) for val in scale}\n",
        "        best_u_C3_vals = {val: value(u_C3[val]) for val in scale}\n",
        "\n",
        "    print(f\"Epsilon = {epsilon}, status = {LpStatus[prob.status]}, objective = {value(prob.objective)}\")\n",
        "\n",
        "# Wyświetlenie najlepszej wartości funkcji celu i epsilon\n",
        "print(f\"\\nNajlepsza wartość funkcji celu: {best_objective:.4f} dla epsilon = {best_epsilon}\")\n",
        "\n",
        "# Nadpisanie u_C_vals_old najlepszymi funkcjami cząstkowymi\n",
        "u_C1_vals_old = best_u_C1_vals\n",
        "u_C2_vals_old = best_u_C2_vals\n",
        "u_C3_vals_old = best_u_C3_vals\n",
        "\n",
        "# Tworzenie tabeli z rankingami\n",
        "rankings_df = pd.DataFrame(rankings_table, index=[f\"Epsilon {e}\" for e in eps]).T\n",
        "rankings_df.index.name = \"Wariant\"\n",
        "rankings_df.columns.name = \"Epsilon\"\n",
        "\n",
        "# Wyświetlenie tabeli\n",
        "print(\"\\nTabela rankingów:\")\n",
        "print(rankings_df)\n",
        "\n",
        "# TODO - rysowanie wykresow"
      ]
    },
    {
      "cell_type": "markdown",
      "metadata": {},
      "source": [
        "Co, jak mozna zauwazyc jest bezsensowne bo najlepsze wyniki \"podobno\" uzyskujemy gdy preferencje finansowania i lokalizacji zupelnie nie sa brane pod uwage\n",
        "\n",
        "# TODO\n",
        "- przeanalizowac czy to co wyszlo w epsilon po prostu jest raw najmniejszy koszt i w dupie w ogole F i R oraz usunac ten komentarz bo w dupie to malo akademickie slowo"
      ]
    },
    {
      "cell_type": "code",
      "execution_count": 58,
      "metadata": {},
      "outputs": [
        {
          "name": "stdout",
          "output_type": "stream",
          "text": [
            "Najlepsza wartość epsilon: 0.3333\n",
            "\n",
            "Ranking wariantów (od najlepszego):\n",
            "1. Wariant 5: Użyteczność = 1.0000\n",
            "2. Wariant 13: Użyteczność = 0.6667\n",
            "3. Wariant 3: Użyteczność = 0.6667\n",
            "4. Wariant 16: Użyteczność = 0.6667\n",
            "5. Wariant 19: Użyteczność = 0.6667\n",
            "6. Wariant 10: Użyteczność = 0.6667\n",
            "7. Wariant 25: Użyteczność = 0.3333\n",
            "8. Wariant 26: Użyteczność = 0.3333\n",
            "9. Wariant 2: Użyteczność = 0.3333\n",
            "10. Wariant 21: Użyteczność = 0.3333\n",
            "\n",
            "Tabela rankingów:\n",
            "Ranking  Ranking\n",
            "Wariant         \n",
            "13             2\n",
            "25             7\n",
            "3              3\n",
            "26             8\n",
            "5              1\n",
            "16             4\n",
            "2              9\n",
            "19             5\n",
            "10             6\n",
            "21            10\n"
          ]
        }
      ],
      "source": [
        "# Czesc 2 UTA w mam nadzieje sensownej wersji\n",
        "\n",
        "# Zmienna do przechowywania wyników dla różnych epsilon\n",
        "rankings_table = {variant: [] for variant in df[\"index\"].tolist()}\n",
        "\n",
        "best_epsilon_value = -float('inf')  # Najlepsza wartość epsilon\n",
        "best_epsilon_ranking = None  # Ranking dla najlepszej wartości epsilon\n",
        "\n",
        "# Problem optymalizacyjny\n",
        "prob = LpProblem(\"UTA_Method\", LpMaximize)\n",
        "\n",
        "# Zmienne decyzyjne – cząstkowe funkcje użyteczności\n",
        "u_C1 = {val: LpVariable(f\"u_C1_{val}\", lowBound=0, upBound=1) for val in scale}\n",
        "u_C2 = {val: LpVariable(f\"u_C2_{val}\", lowBound=0, upBound=1) for val in scale}\n",
        "u_C3 = {val: LpVariable(f\"u_C3_{val}\", lowBound=0, upBound=1) for val in scale}\n",
        "\n",
        "# Zmienna decyzyjna dla epsilon\n",
        "epsilon = LpVariable(\"epsilon\", lowBound=0)\n",
        "\n",
        "# Monotoniczność odwrotna (koszt – im wyżej, tym gorzej)\n",
        "for i in range(len(scale) - 1):\n",
        "    prob += u_C1[scale[i]] >= u_C1[scale[i + 1]]\n",
        "    prob += u_C2[scale[i]] >= u_C2[scale[i + 1]]\n",
        "    prob += u_C3[scale[i]] >= u_C3[scale[i + 1]]\n",
        "\n",
        "prob += u_C1[1] == 0\n",
        "prob += u_C2[1] == 0\n",
        "prob += u_C3[1] == 0\n",
        "prob += u_C1[0] + u_C2[0] + u_C3[0] == 1\n",
        "prob += u_C1[0] >= 0.1\n",
        "prob += u_C2[0] >= 0.1\n",
        "prob += u_C3[0] >= 0.1\n",
        "\n",
        "# Funkcja do interpolacji\n",
        "def interpolate(val, u_dict):\n",
        "    lower = max([v for v in scale if v <= val])\n",
        "    upper = min([v for v in scale if v >= val])\n",
        "    if lower == upper:\n",
        "        return u_dict[lower]\n",
        "    alpha = (val - lower) / (upper - lower)\n",
        "    return (1 - alpha) * u_dict[lower] + alpha * u_dict[upper]\n",
        "\n",
        "# Zmienne dla użyteczności wariantów\n",
        "utilities = {}\n",
        "for i, row in df.iterrows():\n",
        "    idx = int(row[\"index\"])\n",
        "    util = LpVariable(f\"U_{idx}\", lowBound=0, upBound=1)\n",
        "    utilities[idx] = util\n",
        "\n",
        "    uc1 = interpolate(row[\"C1\"], u_C1)\n",
        "    uc2 = interpolate(row[\"C2\"], u_C2)\n",
        "    uc3 = interpolate(row[\"C3\"], u_C3)\n",
        "    prob += util == uc1 + uc2 + uc3\n",
        "\n",
        "# Preferencje lokalizacyjne R2 > R1 > R3\n",
        "prob += utilities[13] >= utilities[25] + epsilon  # R2 > R3\n",
        "prob += utilities[3]  >= utilities[26] + epsilon  # R1 > R3\n",
        "prob += utilities[5]  >= utilities[16] + epsilon  # R2 > R3\n",
        "\n",
        "# Preferencje finansowania F1 > F2 > F3\n",
        "prob += utilities[19] >= utilities[2]  + epsilon  # F1 > F2\n",
        "prob += utilities[10] >= utilities[21] + epsilon  # F1 > F3\n",
        "\n",
        "# Funkcja celu – maksymalizacja epsilon\n",
        "prob += epsilon\n",
        "\n",
        "# Rozwiązywanie\n",
        "prob.solve()\n",
        "\n",
        "# Zapisanie wyników\n",
        "utility_values = {k: value(v) for k, v in utilities.items()}\n",
        "ranking = sorted(utility_values.items(), key=lambda x: x[1], reverse=True)\n",
        "\n",
        "# Nadpisanie funkcji cząstkowych z części 1 gdybym chciala wyswietlic czesc 3 dla maksymalizacji epsilona\n",
        "u_C1_vals_new = {val: value(u_C1[val]) for val in scale}\n",
        "u_C2_vals_new = {val: value(u_C2[val]) for val in scale}\n",
        "u_C3_vals_new = {val: value(u_C3[val]) for val in scale}\n",
        "\n",
        "\n",
        "# Zapisanie rankingu dla każdego wariantu\n",
        "for rank, (idx, val) in enumerate(ranking, 1):\n",
        "    rankings_table[idx].append(rank)\n",
        "\n",
        "# Wyświetlenie wyników\n",
        "print(f\"Najlepsza wartość epsilon: {value(epsilon):.4f}\")\n",
        "print(\"\\nRanking wariantów (od najlepszego):\")\n",
        "for rank, (idx, val) in enumerate(ranking, 1):\n",
        "    print(f\"{rank}. Wariant {idx}: Użyteczność = {val:.4f}\")\n",
        "\n",
        "# Tworzenie tabeli z rankingami\n",
        "rankings_df = pd.DataFrame(rankings_table, index=[\"Ranking\"]).T\n",
        "rankings_df.index.name = \"Wariant\"\n",
        "rankings_df.columns.name = \"Ranking\"\n",
        "\n",
        "# Wyświetlenie tabeli\n",
        "print(\"\\nTabela rankingów:\")\n",
        "print(rankings_df)"
      ]
    },
    {
      "cell_type": "code",
      "execution_count": null,
      "metadata": {},
      "outputs": [
        {
          "name": "stdout",
          "output_type": "stream",
          "text": [
            "\n",
            "Porównanie rankingów dla u_C_vals_old i u_C_vals_new:\n",
            "    Wariant  Ranking_old  Ranking_new  Użyteczność_old  Użyteczność_new\n",
            "0       1.0            9            3           0.8335           0.6667\n",
            "1       2.0           13           16           0.6670           0.3333\n",
            "2       3.0           13            3           0.6670           0.6667\n",
            "3       4.0            1            3           1.0000           0.6667\n",
            "4       5.0            1            1           1.0000           1.0000\n",
            "5       6.0           13           16           0.6670           0.3333\n",
            "6       7.0            1            3           1.0000           0.6667\n",
            "7       8.0            9            2           0.8335           0.8333\n",
            "8       9.0           11           15           0.7503           0.4167\n",
            "9      10.0            1            3           1.0000           0.6667\n",
            "10     11.0            1            3           1.0000           0.6667\n",
            "11     12.0           13           16           0.6670           0.3333\n",
            "12     13.0           13            3           0.6670           0.6667\n",
            "13     14.0           13           16           0.6670           0.3333\n",
            "14     15.0           23           16           0.3330           0.3333\n",
            "15     16.0           13            3           0.6670           0.6667\n",
            "16     17.0           13           16           0.6670           0.3333\n",
            "17     18.0           23           16           0.3330           0.3333\n",
            "18     19.0            1            3           1.0000           0.6667\n",
            "19     20.0           12           14           0.7225           0.5000\n",
            "20     21.0           13           16           0.6670           0.3333\n",
            "21     22.0            1            3           1.0000           0.6667\n",
            "22     23.0            1            3           1.0000           0.6667\n",
            "23     24.0           23           16           0.3330           0.3333\n",
            "24     25.0           23           16           0.3330           0.3333\n",
            "25     26.0           22           16           0.3340           0.3333\n",
            "26     27.0           23           16           0.3330           0.3333\n"
          ]
        }
      ],
      "source": [
        "# cześć 3 - UTA z danymi rzeczywistymi\n",
        "all_data = {\n",
        "    \"index\": list(range(1, 28)),\n",
        "    \"C1\": [0.60, 0.66, 1.00, 0.48, 0.62, 0.78, 0.40, 0.64, 0.65, 0.45,\n",
        "           0.61, 0.74, 0.48, 0.69, 0.87, 0.44, 0.68, 0.76, 0.35, 0.64,\n",
        "           0.83, 0.32, 0.59, 0.73, 0.34, 0.71, 0.80],\n",
        "    \"C2\": [0.93, 0.55, 0.45, 0.87, 0.40, 0.27, 0.90, 0.44, 0.30, 0.86,\n",
        "           0.54, 0.25, 0.97, 0.49, 0.03, 0.95, 0.40, 0.06, 0.91, 0.22,\n",
        "           0.25, 0.83, 0.24, 0.03, 1.00, 0.25, 0.06],\n",
        "    \"C3\": [0.00, 0.45, 0.57, 0.00, 0.56, 0.71, 0.00, 0.54, 0.71, 0.00,\n",
        "           0.38, 0.80, 0.00, 0.56, 1.00, 0.00, 0.65, 1.00, 0.00, 0.81,\n",
        "           0.80, 0.00, 0.70, 1.00, 1.00, 0.88, 1.00],\n",
        "}\n",
        "df_new = pd.DataFrame(all_data)\n",
        "\n",
        "# Obliczanie użyteczności nowych wariantów\n",
        "def interpolated_value(val, scale, u_dict):\n",
        "    lower = max([v for v in scale if v <= val])\n",
        "    upper = min([v for v in scale if v >= val])\n",
        "    if lower == upper:\n",
        "        return u_dict[lower]\n",
        "    alpha = (val - lower) / (upper - lower)\n",
        "    return (1 - alpha) * u_dict[lower] + alpha * u_dict[upper]\n",
        "\n",
        "# Obliczanie użyteczności nowych wariantów dla u_C_vals_old\n",
        "results_old = []\n",
        "for i, row in df_new.iterrows():\n",
        "    uc1_old = interpolated_value(row[\"C1\"], scale, u_C1_vals_old)\n",
        "    uc2_old = interpolated_value(row[\"C2\"], scale, u_C2_vals_old)\n",
        "    uc3_old = interpolated_value(row[\"C3\"], scale, u_C3_vals_old)\n",
        "    total_old = uc1_old + uc2_old + uc3_old\n",
        "    results_old.append({\"Wariant\": row[\"index\"], \"Użyteczność_old\": round(total_old, 4)})\n",
        "\n",
        "df_results_old = pd.DataFrame(results_old).sort_values(by=\"Użyteczność_old\", ascending=False).reset_index(drop=True)\n",
        "\n",
        "# Obliczanie użyteczności nowych wariantów dla u_C_vals_new\n",
        "results_new = []\n",
        "for i, row in df_new.iterrows():\n",
        "    uc1_new = interpolated_value(row[\"C1\"], scale, u_C1_vals_new)\n",
        "    uc2_new = interpolated_value(row[\"C2\"], scale, u_C2_vals_new)\n",
        "    uc3_new = interpolated_value(row[\"C3\"], scale, u_C3_vals_new)\n",
        "    total_new = uc1_new + uc2_new + uc3_new\n",
        "    results_new.append({\"Wariant\": row[\"index\"], \"Użyteczność_new\": round(total_new, 4)})\n",
        "\n",
        "df_results_new = pd.DataFrame(results_new).sort_values(by=\"Użyteczność_new\", ascending=False).reset_index(drop=True)\n",
        "\n",
        "# # Porównanie rankingów\n",
        "# comparison = pd.merge(\n",
        "#     df_results_old.rename(columns={\"Użyteczność_old\": \"Użyteczność\", \"index\": \"Wariant\"}).reset_index(),\n",
        "#     df_results_new.rename(columns={\"Użyteczność_new\": \"Użyteczność\", \"index\": \"Wariant\"}).reset_index(),\n",
        "#     on=\"Wariant\",\n",
        "#     suffixes=(\"_old\", \"_new\")\n",
        "# )\n",
        "\n",
        "# # Dodanie pozycji w rankingu\n",
        "# comparison[\"Ranking_old\"] = comparison.index + 1\n",
        "# comparison[\"Ranking_new\"] = comparison.index + 1\n",
        "\n",
        "# # Wyświetlenie tabeli porównawczej\n",
        "# print(\"\\nPorównanie rankingów dla u_C_vals_old i u_C_vals_new:\")\n",
        "# print(comparison[[\"Wariant\", \"Ranking_old\", \"Użyteczność_old\", \"Ranking_new\", \"Użyteczność_new\"]])\n",
        "\n",
        "# Porównanie rankingów\n",
        "comparison = pd.merge(\n",
        "    df_results_old.rename(columns={\"Użyteczność_old\": \"Użyteczność\", \"index\": \"Wariant\"}).reset_index(),\n",
        "    df_results_new.rename(columns={\"Użyteczność_new\": \"Użyteczność\", \"index\": \"Wariant\"}).reset_index(),\n",
        "    on=\"Wariant\",\n",
        "    suffixes=(\"_old\", \"_new\")\n",
        ")\n",
        "\n",
        "# Dodanie pozycji w rankingu na podstawie sortowania\n",
        "comparison[\"Ranking_old\"] = comparison[\"Użyteczność_old\"].rank(ascending=False, method=\"min\").astype(int)\n",
        "comparison[\"Ranking_new\"] = comparison[\"Użyteczność_new\"].rank(ascending=False, method=\"min\").astype(int)\n",
        "\n",
        "# Posortowanie tabeli według wariantów dla czytelności\n",
        "comparison = comparison.sort_values(by=\"Wariant\").reset_index(drop=True)\n",
        "\n",
        "# Wyświetlenie tabeli porównawczej\n",
        "print(\"\\nPorównanie rankingów dla u_C_vals_old i u_C_vals_new:\")\n",
        "print(comparison[[\"Wariant\", \"Ranking_old\", \"Ranking_new\", \"Użyteczność_old\", \"Użyteczność_new\"]])\n",
        "\n",
        "#TODO rysowanie wykresow\n",
        "\n"
      ]
    },
    {
      "cell_type": "markdown",
      "metadata": {},
      "source": [
        "Co to oznacza?\n",
        "\n",
        "Jest inaczej.\n",
        "\n",
        "Czy lepiej?\n",
        "\n",
        "Jest inaczej. \n",
        "\n"
      ]
    }
  ],
  "metadata": {
    "colab": {
      "provenance": []
    },
    "kernelspec": {
      "display_name": "Python 3",
      "language": "python",
      "name": "python3"
    },
    "language_info": {
      "codemirror_mode": {
        "name": "ipython",
        "version": 3
      },
      "file_extension": ".py",
      "mimetype": "text/x-python",
      "name": "python",
      "nbconvert_exporter": "python",
      "pygments_lexer": "ipython3",
      "version": "3.10.11"
    }
  },
  "nbformat": 4,
  "nbformat_minor": 0
}
